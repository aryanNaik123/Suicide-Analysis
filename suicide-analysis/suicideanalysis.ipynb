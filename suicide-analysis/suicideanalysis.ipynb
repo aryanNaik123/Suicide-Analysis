{
 "cells": [
  {
   "cell_type": "markdown",
   "metadata": {},
   "source": [
    "# Suicide Analysis\n",
    "Suicide has always been an overlooked subject in society but as suicide rates increase in teenagers we should be more and more concerned with what could be causing this increase. In this analysis I will do some historical research on suicide rates and statistics. "
   ]
  },
  {
   "cell_type": "markdown",
   "metadata": {},
   "source": [
    "## Downloading the Dataset\n",
    "\n",
    "We download this data set using the kaggle api, and then access it in the directory"
   ]
  },
  {
   "cell_type": "code",
   "execution_count": 1,
   "metadata": {},
   "outputs": [],
   "source": [
    "!pip install jovian opendatasets --upgrade --quiet"
   ]
  },
  {
   "cell_type": "markdown",
   "metadata": {},
   "source": [
    "Let's begin by downloading the data, and listing the files within the dataset."
   ]
  },
  {
   "cell_type": "code",
   "execution_count": 83,
   "metadata": {},
   "outputs": [],
   "source": [
    "dataset_url = 'https://www.kaggle.com/russellyates88/suicide-rates-overview-1985-to-2016' "
   ]
  },
  {
   "cell_type": "code",
   "execution_count": 85,
   "metadata": {},
   "outputs": [
    {
     "name": "stdout",
     "output_type": "stream",
     "text": [
      "Please provide your Kaggle credentials to download this dataset. Learn more: http://bit.ly/kaggle-creds\n",
      "Your Kaggle username: aryannaik\n",
      "Your Kaggle Key: ········\n"
     ]
    },
    {
     "name": "stderr",
     "output_type": "stream",
     "text": [
      "100%|██████████| 397k/397k [00:00<00:00, 102MB/s]"
     ]
    },
    {
     "name": "stdout",
     "output_type": "stream",
     "text": [
      "Downloading suicide-rates-overview-1985-to-2016.zip to ./suicide-rates-overview-1985-to-2016\n",
      "\n"
     ]
    },
    {
     "name": "stderr",
     "output_type": "stream",
     "text": [
      "\n"
     ]
    }
   ],
   "source": [
    "import opendatasets as od\n",
    "od.download(dataset_url)"
   ]
  },
  {
   "cell_type": "markdown",
   "metadata": {},
   "source": [
    "The dataset has been downloaded and extracted."
   ]
  },
  {
   "cell_type": "code",
   "execution_count": 86,
   "metadata": {},
   "outputs": [],
   "source": [
    "# Change this\n",
    "data_dir = './suicide-rates-overview-1985-to-2016'"
   ]
  },
  {
   "cell_type": "code",
   "execution_count": 87,
   "metadata": {},
   "outputs": [
    {
     "data": {
      "text/plain": [
       "['master.csv']"
      ]
     },
     "execution_count": 87,
     "metadata": {},
     "output_type": "execute_result"
    }
   ],
   "source": [
    "import os\n",
    "os.listdir(data_dir)"
   ]
  },
  {
   "cell_type": "markdown",
   "metadata": {},
   "source": [
    "Let us save and upload our work to Jovian before continuing."
   ]
  },
  {
   "cell_type": "code",
   "execution_count": 88,
   "metadata": {},
   "outputs": [],
   "source": [
    "project_name = \"Suicide Analysis\" "
   ]
  },
  {
   "cell_type": "code",
   "execution_count": 89,
   "metadata": {},
   "outputs": [],
   "source": [
    "!pip install jovian --upgrade -q"
   ]
  },
  {
   "cell_type": "code",
   "execution_count": 90,
   "metadata": {},
   "outputs": [],
   "source": [
    "import jovian"
   ]
  },
  {
   "cell_type": "code",
   "execution_count": 91,
   "metadata": {},
   "outputs": [
    {
     "data": {
      "application/javascript": [
       "window.require && require([\"base/js/namespace\"],function(Jupyter){Jupyter.notebook.save_checkpoint()})"
      ],
      "text/plain": [
       "<IPython.core.display.Javascript object>"
      ]
     },
     "metadata": {},
     "output_type": "display_data"
    },
    {
     "name": "stdout",
     "output_type": "stream",
     "text": [
      "[jovian] Attempting to save notebook..\u001b[0m\n",
      "[jovian] Updating notebook \"aryannaik123/suicide-analysis\" on https://jovian.ml/\u001b[0m\n",
      "[jovian] Uploading notebook..\u001b[0m\n",
      "[jovian] Capturing environment..\u001b[0m\n",
      "[jovian] Committed successfully! https://jovian.ml/aryannaik123/suicide-analysis\u001b[0m\n"
     ]
    },
    {
     "data": {
      "text/plain": [
       "'https://jovian.ml/aryannaik123/suicide-analysis'"
      ]
     },
     "execution_count": 91,
     "metadata": {},
     "output_type": "execute_result"
    }
   ],
   "source": [
    "jovian.commit(project=project_name)"
   ]
  },
  {
   "cell_type": "markdown",
   "metadata": {},
   "source": [
    "## Data Preparation and Cleaning\n",
    "\n",
    "#### Preparing datset\n",
    "##### Loading and describing Dataset using pandas"
   ]
  },
  {
   "cell_type": "code",
   "execution_count": 10,
   "metadata": {},
   "outputs": [],
   "source": [
    "import pandas as pd\n",
    "import numpy as np "
   ]
  },
  {
   "cell_type": "code",
   "execution_count": 11,
   "metadata": {},
   "outputs": [
    {
     "data": {
      "text/html": [
       "<div>\n",
       "<style scoped>\n",
       "    .dataframe tbody tr th:only-of-type {\n",
       "        vertical-align: middle;\n",
       "    }\n",
       "\n",
       "    .dataframe tbody tr th {\n",
       "        vertical-align: top;\n",
       "    }\n",
       "\n",
       "    .dataframe thead th {\n",
       "        text-align: right;\n",
       "    }\n",
       "</style>\n",
       "<table border=\"1\" class=\"dataframe\">\n",
       "  <thead>\n",
       "    <tr style=\"text-align: right;\">\n",
       "      <th></th>\n",
       "      <th>country</th>\n",
       "      <th>year</th>\n",
       "      <th>sex</th>\n",
       "      <th>age</th>\n",
       "      <th>suicides_no</th>\n",
       "      <th>population</th>\n",
       "      <th>suicides/100k pop</th>\n",
       "      <th>country-year</th>\n",
       "      <th>HDI for year</th>\n",
       "      <th>gdp_for_year ($)</th>\n",
       "      <th>gdp_per_capita ($)</th>\n",
       "      <th>generation</th>\n",
       "    </tr>\n",
       "  </thead>\n",
       "  <tbody>\n",
       "    <tr>\n",
       "      <th>0</th>\n",
       "      <td>Albania</td>\n",
       "      <td>1987</td>\n",
       "      <td>male</td>\n",
       "      <td>15-24 years</td>\n",
       "      <td>21</td>\n",
       "      <td>312900</td>\n",
       "      <td>6.71</td>\n",
       "      <td>Albania1987</td>\n",
       "      <td>NaN</td>\n",
       "      <td>2,156,624,900</td>\n",
       "      <td>796</td>\n",
       "      <td>Generation X</td>\n",
       "    </tr>\n",
       "    <tr>\n",
       "      <th>1</th>\n",
       "      <td>Albania</td>\n",
       "      <td>1987</td>\n",
       "      <td>male</td>\n",
       "      <td>35-54 years</td>\n",
       "      <td>16</td>\n",
       "      <td>308000</td>\n",
       "      <td>5.19</td>\n",
       "      <td>Albania1987</td>\n",
       "      <td>NaN</td>\n",
       "      <td>2,156,624,900</td>\n",
       "      <td>796</td>\n",
       "      <td>Silent</td>\n",
       "    </tr>\n",
       "    <tr>\n",
       "      <th>2</th>\n",
       "      <td>Albania</td>\n",
       "      <td>1987</td>\n",
       "      <td>female</td>\n",
       "      <td>15-24 years</td>\n",
       "      <td>14</td>\n",
       "      <td>289700</td>\n",
       "      <td>4.83</td>\n",
       "      <td>Albania1987</td>\n",
       "      <td>NaN</td>\n",
       "      <td>2,156,624,900</td>\n",
       "      <td>796</td>\n",
       "      <td>Generation X</td>\n",
       "    </tr>\n",
       "    <tr>\n",
       "      <th>3</th>\n",
       "      <td>Albania</td>\n",
       "      <td>1987</td>\n",
       "      <td>male</td>\n",
       "      <td>75+ years</td>\n",
       "      <td>1</td>\n",
       "      <td>21800</td>\n",
       "      <td>4.59</td>\n",
       "      <td>Albania1987</td>\n",
       "      <td>NaN</td>\n",
       "      <td>2,156,624,900</td>\n",
       "      <td>796</td>\n",
       "      <td>G.I. Generation</td>\n",
       "    </tr>\n",
       "    <tr>\n",
       "      <th>4</th>\n",
       "      <td>Albania</td>\n",
       "      <td>1987</td>\n",
       "      <td>male</td>\n",
       "      <td>25-34 years</td>\n",
       "      <td>9</td>\n",
       "      <td>274300</td>\n",
       "      <td>3.28</td>\n",
       "      <td>Albania1987</td>\n",
       "      <td>NaN</td>\n",
       "      <td>2,156,624,900</td>\n",
       "      <td>796</td>\n",
       "      <td>Boomers</td>\n",
       "    </tr>\n",
       "    <tr>\n",
       "      <th>...</th>\n",
       "      <td>...</td>\n",
       "      <td>...</td>\n",
       "      <td>...</td>\n",
       "      <td>...</td>\n",
       "      <td>...</td>\n",
       "      <td>...</td>\n",
       "      <td>...</td>\n",
       "      <td>...</td>\n",
       "      <td>...</td>\n",
       "      <td>...</td>\n",
       "      <td>...</td>\n",
       "      <td>...</td>\n",
       "    </tr>\n",
       "    <tr>\n",
       "      <th>27815</th>\n",
       "      <td>Uzbekistan</td>\n",
       "      <td>2014</td>\n",
       "      <td>female</td>\n",
       "      <td>35-54 years</td>\n",
       "      <td>107</td>\n",
       "      <td>3620833</td>\n",
       "      <td>2.96</td>\n",
       "      <td>Uzbekistan2014</td>\n",
       "      <td>0.675</td>\n",
       "      <td>63,067,077,179</td>\n",
       "      <td>2309</td>\n",
       "      <td>Generation X</td>\n",
       "    </tr>\n",
       "    <tr>\n",
       "      <th>27816</th>\n",
       "      <td>Uzbekistan</td>\n",
       "      <td>2014</td>\n",
       "      <td>female</td>\n",
       "      <td>75+ years</td>\n",
       "      <td>9</td>\n",
       "      <td>348465</td>\n",
       "      <td>2.58</td>\n",
       "      <td>Uzbekistan2014</td>\n",
       "      <td>0.675</td>\n",
       "      <td>63,067,077,179</td>\n",
       "      <td>2309</td>\n",
       "      <td>Silent</td>\n",
       "    </tr>\n",
       "    <tr>\n",
       "      <th>27817</th>\n",
       "      <td>Uzbekistan</td>\n",
       "      <td>2014</td>\n",
       "      <td>male</td>\n",
       "      <td>5-14 years</td>\n",
       "      <td>60</td>\n",
       "      <td>2762158</td>\n",
       "      <td>2.17</td>\n",
       "      <td>Uzbekistan2014</td>\n",
       "      <td>0.675</td>\n",
       "      <td>63,067,077,179</td>\n",
       "      <td>2309</td>\n",
       "      <td>Generation Z</td>\n",
       "    </tr>\n",
       "    <tr>\n",
       "      <th>27818</th>\n",
       "      <td>Uzbekistan</td>\n",
       "      <td>2014</td>\n",
       "      <td>female</td>\n",
       "      <td>5-14 years</td>\n",
       "      <td>44</td>\n",
       "      <td>2631600</td>\n",
       "      <td>1.67</td>\n",
       "      <td>Uzbekistan2014</td>\n",
       "      <td>0.675</td>\n",
       "      <td>63,067,077,179</td>\n",
       "      <td>2309</td>\n",
       "      <td>Generation Z</td>\n",
       "    </tr>\n",
       "    <tr>\n",
       "      <th>27819</th>\n",
       "      <td>Uzbekistan</td>\n",
       "      <td>2014</td>\n",
       "      <td>female</td>\n",
       "      <td>55-74 years</td>\n",
       "      <td>21</td>\n",
       "      <td>1438935</td>\n",
       "      <td>1.46</td>\n",
       "      <td>Uzbekistan2014</td>\n",
       "      <td>0.675</td>\n",
       "      <td>63,067,077,179</td>\n",
       "      <td>2309</td>\n",
       "      <td>Boomers</td>\n",
       "    </tr>\n",
       "  </tbody>\n",
       "</table>\n",
       "<p>27820 rows × 12 columns</p>\n",
       "</div>"
      ],
      "text/plain": [
       "          country  year     sex          age  suicides_no  population  \\\n",
       "0         Albania  1987    male  15-24 years           21      312900   \n",
       "1         Albania  1987    male  35-54 years           16      308000   \n",
       "2         Albania  1987  female  15-24 years           14      289700   \n",
       "3         Albania  1987    male    75+ years            1       21800   \n",
       "4         Albania  1987    male  25-34 years            9      274300   \n",
       "...           ...   ...     ...          ...          ...         ...   \n",
       "27815  Uzbekistan  2014  female  35-54 years          107     3620833   \n",
       "27816  Uzbekistan  2014  female    75+ years            9      348465   \n",
       "27817  Uzbekistan  2014    male   5-14 years           60     2762158   \n",
       "27818  Uzbekistan  2014  female   5-14 years           44     2631600   \n",
       "27819  Uzbekistan  2014  female  55-74 years           21     1438935   \n",
       "\n",
       "       suicides/100k pop    country-year  HDI for year  gdp_for_year ($)   \\\n",
       "0                   6.71     Albania1987           NaN      2,156,624,900   \n",
       "1                   5.19     Albania1987           NaN      2,156,624,900   \n",
       "2                   4.83     Albania1987           NaN      2,156,624,900   \n",
       "3                   4.59     Albania1987           NaN      2,156,624,900   \n",
       "4                   3.28     Albania1987           NaN      2,156,624,900   \n",
       "...                  ...             ...           ...                ...   \n",
       "27815               2.96  Uzbekistan2014         0.675     63,067,077,179   \n",
       "27816               2.58  Uzbekistan2014         0.675     63,067,077,179   \n",
       "27817               2.17  Uzbekistan2014         0.675     63,067,077,179   \n",
       "27818               1.67  Uzbekistan2014         0.675     63,067,077,179   \n",
       "27819               1.46  Uzbekistan2014         0.675     63,067,077,179   \n",
       "\n",
       "       gdp_per_capita ($)       generation  \n",
       "0                     796     Generation X  \n",
       "1                     796           Silent  \n",
       "2                     796     Generation X  \n",
       "3                     796  G.I. Generation  \n",
       "4                     796          Boomers  \n",
       "...                   ...              ...  \n",
       "27815                2309     Generation X  \n",
       "27816                2309           Silent  \n",
       "27817                2309     Generation Z  \n",
       "27818                2309     Generation Z  \n",
       "27819                2309          Boomers  \n",
       "\n",
       "[27820 rows x 12 columns]"
      ]
     },
     "execution_count": 11,
     "metadata": {},
     "output_type": "execute_result"
    }
   ],
   "source": [
    "df = pd.read_csv(\"suicide-rates-overview-1985-to-2016/master.csv\")\n",
    "df"
   ]
  },
  {
   "cell_type": "code",
   "execution_count": 13,
   "metadata": {},
   "outputs": [
    {
     "data": {
      "text/plain": [
       "Index(['country', 'year', 'sex', 'age', 'suicides_no', 'population',\n",
       "       'suicides/100k pop', 'country-year', 'HDI for year',\n",
       "       ' gdp_for_year ($) ', 'gdp_per_capita ($)', 'generation'],\n",
       "      dtype='object')"
      ]
     },
     "execution_count": 13,
     "metadata": {},
     "output_type": "execute_result"
    }
   ],
   "source": [
    "df.columns"
   ]
  },
  {
   "cell_type": "code",
   "execution_count": 14,
   "metadata": {},
   "outputs": [
    {
     "data": {
      "text/plain": [
       "array(['Albania', 'Antigua and Barbuda', 'Argentina', 'Armenia', 'Aruba',\n",
       "       'Australia', 'Austria', 'Azerbaijan', 'Bahamas', 'Bahrain',\n",
       "       'Barbados', 'Belarus', 'Belgium', 'Belize',\n",
       "       'Bosnia and Herzegovina', 'Brazil', 'Bulgaria', 'Cabo Verde',\n",
       "       'Canada', 'Chile', 'Colombia', 'Costa Rica', 'Croatia', 'Cuba',\n",
       "       'Cyprus', 'Czech Republic', 'Denmark', 'Dominica', 'Ecuador',\n",
       "       'El Salvador', 'Estonia', 'Fiji', 'Finland', 'France', 'Georgia',\n",
       "       'Germany', 'Greece', 'Grenada', 'Guatemala', 'Guyana', 'Hungary',\n",
       "       'Iceland', 'Ireland', 'Israel', 'Italy', 'Jamaica', 'Japan',\n",
       "       'Kazakhstan', 'Kiribati', 'Kuwait', 'Kyrgyzstan', 'Latvia',\n",
       "       'Lithuania', 'Luxembourg', 'Macau', 'Maldives', 'Malta',\n",
       "       'Mauritius', 'Mexico', 'Mongolia', 'Montenegro', 'Netherlands',\n",
       "       'New Zealand', 'Nicaragua', 'Norway', 'Oman', 'Panama', 'Paraguay',\n",
       "       'Philippines', 'Poland', 'Portugal', 'Puerto Rico', 'Qatar',\n",
       "       'Republic of Korea', 'Romania', 'Russian Federation',\n",
       "       'Saint Kitts and Nevis', 'Saint Lucia',\n",
       "       'Saint Vincent and Grenadines', 'San Marino', 'Serbia',\n",
       "       'Seychelles', 'Singapore', 'Slovakia', 'Slovenia', 'South Africa',\n",
       "       'Spain', 'Sri Lanka', 'Suriname', 'Sweden', 'Switzerland',\n",
       "       'Thailand', 'Trinidad and Tobago', 'Turkey', 'Turkmenistan',\n",
       "       'Ukraine', 'United Arab Emirates', 'United Kingdom',\n",
       "       'United States', 'Uruguay', 'Uzbekistan'], dtype=object)"
      ]
     },
     "execution_count": 14,
     "metadata": {},
     "output_type": "execute_result"
    }
   ],
   "source": [
    "df.country.unique()"
   ]
  },
  {
   "cell_type": "code",
   "execution_count": 15,
   "metadata": {},
   "outputs": [
    {
     "data": {
      "text/html": [
       "<div>\n",
       "<style scoped>\n",
       "    .dataframe tbody tr th:only-of-type {\n",
       "        vertical-align: middle;\n",
       "    }\n",
       "\n",
       "    .dataframe tbody tr th {\n",
       "        vertical-align: top;\n",
       "    }\n",
       "\n",
       "    .dataframe thead th {\n",
       "        text-align: right;\n",
       "    }\n",
       "</style>\n",
       "<table border=\"1\" class=\"dataframe\">\n",
       "  <thead>\n",
       "    <tr style=\"text-align: right;\">\n",
       "      <th></th>\n",
       "      <th>country</th>\n",
       "      <th>year</th>\n",
       "      <th>sex</th>\n",
       "      <th>age</th>\n",
       "      <th>suicides_no</th>\n",
       "      <th>population</th>\n",
       "      <th>suicides/100k pop</th>\n",
       "      <th>country-year</th>\n",
       "      <th>HDI for year</th>\n",
       "      <th>gdp_for_year ($)</th>\n",
       "      <th>gdp_per_capita ($)</th>\n",
       "      <th>generation</th>\n",
       "    </tr>\n",
       "  </thead>\n",
       "  <tbody>\n",
       "    <tr>\n",
       "      <th>1258</th>\n",
       "      <td>Aruba</td>\n",
       "      <td>1995</td>\n",
       "      <td>male</td>\n",
       "      <td>75+ years</td>\n",
       "      <td>2</td>\n",
       "      <td>889</td>\n",
       "      <td>224.97</td>\n",
       "      <td>Aruba1995</td>\n",
       "      <td>NaN</td>\n",
       "      <td>1,320,670,391</td>\n",
       "      <td>17949</td>\n",
       "      <td>G.I. Generation</td>\n",
       "    </tr>\n",
       "    <tr>\n",
       "      <th>22280</th>\n",
       "      <td>Seychelles</td>\n",
       "      <td>2006</td>\n",
       "      <td>male</td>\n",
       "      <td>75+ years</td>\n",
       "      <td>2</td>\n",
       "      <td>976</td>\n",
       "      <td>204.92</td>\n",
       "      <td>Seychelles2006</td>\n",
       "      <td>NaN</td>\n",
       "      <td>1,016,418,229</td>\n",
       "      <td>12442</td>\n",
       "      <td>Silent</td>\n",
       "    </tr>\n",
       "    <tr>\n",
       "      <th>24332</th>\n",
       "      <td>Suriname</td>\n",
       "      <td>2012</td>\n",
       "      <td>male</td>\n",
       "      <td>75+ years</td>\n",
       "      <td>10</td>\n",
       "      <td>5346</td>\n",
       "      <td>187.06</td>\n",
       "      <td>Suriname2012</td>\n",
       "      <td>0.711</td>\n",
       "      <td>4,980,000,000</td>\n",
       "      <td>10227</td>\n",
       "      <td>Silent</td>\n",
       "    </tr>\n",
       "    <tr>\n",
       "      <th>20542</th>\n",
       "      <td>Republic of Korea</td>\n",
       "      <td>2011</td>\n",
       "      <td>male</td>\n",
       "      <td>75+ years</td>\n",
       "      <td>1276</td>\n",
       "      <td>688365</td>\n",
       "      <td>185.37</td>\n",
       "      <td>Republic of Korea2011</td>\n",
       "      <td>NaN</td>\n",
       "      <td>1,202,463,682,634</td>\n",
       "      <td>25157</td>\n",
       "      <td>Silent</td>\n",
       "    </tr>\n",
       "    <tr>\n",
       "      <th>20530</th>\n",
       "      <td>Republic of Korea</td>\n",
       "      <td>2010</td>\n",
       "      <td>male</td>\n",
       "      <td>75+ years</td>\n",
       "      <td>1152</td>\n",
       "      <td>631853</td>\n",
       "      <td>182.32</td>\n",
       "      <td>Republic of Korea2010</td>\n",
       "      <td>NaN</td>\n",
       "      <td>1,094,499,338,703</td>\n",
       "      <td>22994</td>\n",
       "      <td>Silent</td>\n",
       "    </tr>\n",
       "    <tr>\n",
       "      <th>...</th>\n",
       "      <td>...</td>\n",
       "      <td>...</td>\n",
       "      <td>...</td>\n",
       "      <td>...</td>\n",
       "      <td>...</td>\n",
       "      <td>...</td>\n",
       "      <td>...</td>\n",
       "      <td>...</td>\n",
       "      <td>...</td>\n",
       "      <td>...</td>\n",
       "      <td>...</td>\n",
       "      <td>...</td>\n",
       "    </tr>\n",
       "    <tr>\n",
       "      <th>3076</th>\n",
       "      <td>Barbados</td>\n",
       "      <td>2004</td>\n",
       "      <td>male</td>\n",
       "      <td>25-34 years</td>\n",
       "      <td>0</td>\n",
       "      <td>20092</td>\n",
       "      <td>0.00</td>\n",
       "      <td>Barbados2004</td>\n",
       "      <td>NaN</td>\n",
       "      <td>3,514,350,000</td>\n",
       "      <td>13786</td>\n",
       "      <td>Generation X</td>\n",
       "    </tr>\n",
       "    <tr>\n",
       "      <th>3077</th>\n",
       "      <td>Barbados</td>\n",
       "      <td>2004</td>\n",
       "      <td>male</td>\n",
       "      <td>5-14 years</td>\n",
       "      <td>0</td>\n",
       "      <td>19715</td>\n",
       "      <td>0.00</td>\n",
       "      <td>Barbados2004</td>\n",
       "      <td>NaN</td>\n",
       "      <td>3,514,350,000</td>\n",
       "      <td>13786</td>\n",
       "      <td>Millenials</td>\n",
       "    </tr>\n",
       "    <tr>\n",
       "      <th>3078</th>\n",
       "      <td>Barbados</td>\n",
       "      <td>2004</td>\n",
       "      <td>male</td>\n",
       "      <td>55-74 years</td>\n",
       "      <td>0</td>\n",
       "      <td>18209</td>\n",
       "      <td>0.00</td>\n",
       "      <td>Barbados2004</td>\n",
       "      <td>NaN</td>\n",
       "      <td>3,514,350,000</td>\n",
       "      <td>13786</td>\n",
       "      <td>Silent</td>\n",
       "    </tr>\n",
       "    <tr>\n",
       "      <th>3079</th>\n",
       "      <td>Barbados</td>\n",
       "      <td>2004</td>\n",
       "      <td>male</td>\n",
       "      <td>75+ years</td>\n",
       "      <td>0</td>\n",
       "      <td>5655</td>\n",
       "      <td>0.00</td>\n",
       "      <td>Barbados2004</td>\n",
       "      <td>NaN</td>\n",
       "      <td>3,514,350,000</td>\n",
       "      <td>13786</td>\n",
       "      <td>Silent</td>\n",
       "    </tr>\n",
       "    <tr>\n",
       "      <th>13183</th>\n",
       "      <td>Jamaica</td>\n",
       "      <td>1986</td>\n",
       "      <td>male</td>\n",
       "      <td>75+ years</td>\n",
       "      <td>0</td>\n",
       "      <td>31228</td>\n",
       "      <td>0.00</td>\n",
       "      <td>Jamaica1986</td>\n",
       "      <td>NaN</td>\n",
       "      <td>2,754,566,176</td>\n",
       "      <td>1342</td>\n",
       "      <td>G.I. Generation</td>\n",
       "    </tr>\n",
       "  </tbody>\n",
       "</table>\n",
       "<p>27820 rows × 12 columns</p>\n",
       "</div>"
      ],
      "text/plain": [
       "                 country  year   sex          age  suicides_no  population  \\\n",
       "1258               Aruba  1995  male    75+ years            2         889   \n",
       "22280         Seychelles  2006  male    75+ years            2         976   \n",
       "24332           Suriname  2012  male    75+ years           10        5346   \n",
       "20542  Republic of Korea  2011  male    75+ years         1276      688365   \n",
       "20530  Republic of Korea  2010  male    75+ years         1152      631853   \n",
       "...                  ...   ...   ...          ...          ...         ...   \n",
       "3076            Barbados  2004  male  25-34 years            0       20092   \n",
       "3077            Barbados  2004  male   5-14 years            0       19715   \n",
       "3078            Barbados  2004  male  55-74 years            0       18209   \n",
       "3079            Barbados  2004  male    75+ years            0        5655   \n",
       "13183            Jamaica  1986  male    75+ years            0       31228   \n",
       "\n",
       "       suicides/100k pop           country-year  HDI for year  \\\n",
       "1258              224.97              Aruba1995           NaN   \n",
       "22280             204.92         Seychelles2006           NaN   \n",
       "24332             187.06           Suriname2012         0.711   \n",
       "20542             185.37  Republic of Korea2011           NaN   \n",
       "20530             182.32  Republic of Korea2010           NaN   \n",
       "...                  ...                    ...           ...   \n",
       "3076                0.00           Barbados2004           NaN   \n",
       "3077                0.00           Barbados2004           NaN   \n",
       "3078                0.00           Barbados2004           NaN   \n",
       "3079                0.00           Barbados2004           NaN   \n",
       "13183               0.00            Jamaica1986           NaN   \n",
       "\n",
       "       gdp_for_year ($)   gdp_per_capita ($)       generation  \n",
       "1258       1,320,670,391               17949  G.I. Generation  \n",
       "22280      1,016,418,229               12442           Silent  \n",
       "24332      4,980,000,000               10227           Silent  \n",
       "20542  1,202,463,682,634               25157           Silent  \n",
       "20530  1,094,499,338,703               22994           Silent  \n",
       "...                  ...                 ...              ...  \n",
       "3076       3,514,350,000               13786     Generation X  \n",
       "3077       3,514,350,000               13786       Millenials  \n",
       "3078       3,514,350,000               13786           Silent  \n",
       "3079       3,514,350,000               13786           Silent  \n",
       "13183      2,754,566,176                1342  G.I. Generation  \n",
       "\n",
       "[27820 rows x 12 columns]"
      ]
     },
     "execution_count": 15,
     "metadata": {},
     "output_type": "execute_result"
    }
   ],
   "source": [
    "df.sort_values('suicides/100k pop',ascending=False)"
   ]
  },
  {
   "cell_type": "code",
   "execution_count": 16,
   "metadata": {},
   "outputs": [],
   "source": [
    "import jovian"
   ]
  },
  {
   "cell_type": "code",
   "execution_count": 17,
   "metadata": {},
   "outputs": [
    {
     "data": {
      "application/javascript": [
       "window.require && require([\"base/js/namespace\"],function(Jupyter){Jupyter.notebook.save_checkpoint()})"
      ],
      "text/plain": [
       "<IPython.core.display.Javascript object>"
      ]
     },
     "metadata": {},
     "output_type": "display_data"
    },
    {
     "name": "stdout",
     "output_type": "stream",
     "text": [
      "[jovian] Attempting to save notebook..\u001b[0m\n",
      "[jovian] Updating notebook \"aryannaik123/suicide-analysis\" on https://jovian.ml/\u001b[0m\n",
      "[jovian] Uploading notebook..\u001b[0m\n",
      "[jovian] Capturing environment..\u001b[0m\n",
      "[jovian] Committed successfully! https://jovian.ml/aryannaik123/suicide-analysis\u001b[0m\n"
     ]
    },
    {
     "data": {
      "text/plain": [
       "'https://jovian.ml/aryannaik123/suicide-analysis'"
      ]
     },
     "execution_count": 17,
     "metadata": {},
     "output_type": "execute_result"
    }
   ],
   "source": [
    "jovian.commit()"
   ]
  },
  {
   "cell_type": "markdown",
   "metadata": {},
   "source": [
    "## Exploratory Analysis and Visualization\n",
    "\n",
    "### Exploring the connections between categories of the data set\n",
    "\n"
   ]
  },
  {
   "cell_type": "markdown",
   "metadata": {},
   "source": [
    "Let's begin by importing`matplotlib.pyplot` and `seaborn`."
   ]
  },
  {
   "cell_type": "code",
   "execution_count": 18,
   "metadata": {},
   "outputs": [],
   "source": [
    "import seaborn as sns\n",
    "import matplotlib\n",
    "import matplotlib.pyplot as plt\n",
    "%matplotlib inline\n",
    "\n",
    "sns.set_style('darkgrid')\n",
    "matplotlib.rcParams['font.size'] = 14\n",
    "matplotlib.rcParams['figure.figsize'] = (9, 5)\n",
    "matplotlib.rcParams['figure.facecolor'] = '#00000000'"
   ]
  },
  {
   "cell_type": "markdown",
   "metadata": {},
   "source": [
    "Mean, median, and other statistics for each column"
   ]
  },
  {
   "cell_type": "code",
   "execution_count": 49,
   "metadata": {},
   "outputs": [
    {
     "data": {
      "text/html": [
       "<div>\n",
       "<style scoped>\n",
       "    .dataframe tbody tr th:only-of-type {\n",
       "        vertical-align: middle;\n",
       "    }\n",
       "\n",
       "    .dataframe tbody tr th {\n",
       "        vertical-align: top;\n",
       "    }\n",
       "\n",
       "    .dataframe thead th {\n",
       "        text-align: right;\n",
       "    }\n",
       "</style>\n",
       "<table border=\"1\" class=\"dataframe\">\n",
       "  <thead>\n",
       "    <tr style=\"text-align: right;\">\n",
       "      <th></th>\n",
       "      <th>year</th>\n",
       "      <th>suicides_no</th>\n",
       "      <th>population</th>\n",
       "      <th>suicides/100k pop</th>\n",
       "      <th>HDI for year</th>\n",
       "      <th>gdp_per_capita ($)</th>\n",
       "    </tr>\n",
       "  </thead>\n",
       "  <tbody>\n",
       "    <tr>\n",
       "      <th>count</th>\n",
       "      <td>27820.000000</td>\n",
       "      <td>27820.000000</td>\n",
       "      <td>2.782000e+04</td>\n",
       "      <td>27820.000000</td>\n",
       "      <td>8364.000000</td>\n",
       "      <td>27820.000000</td>\n",
       "    </tr>\n",
       "    <tr>\n",
       "      <th>mean</th>\n",
       "      <td>2001.258375</td>\n",
       "      <td>242.574407</td>\n",
       "      <td>1.844794e+06</td>\n",
       "      <td>12.816097</td>\n",
       "      <td>0.776601</td>\n",
       "      <td>16866.464414</td>\n",
       "    </tr>\n",
       "    <tr>\n",
       "      <th>std</th>\n",
       "      <td>8.469055</td>\n",
       "      <td>902.047917</td>\n",
       "      <td>3.911779e+06</td>\n",
       "      <td>18.961511</td>\n",
       "      <td>0.093367</td>\n",
       "      <td>18887.576472</td>\n",
       "    </tr>\n",
       "    <tr>\n",
       "      <th>min</th>\n",
       "      <td>1985.000000</td>\n",
       "      <td>0.000000</td>\n",
       "      <td>2.780000e+02</td>\n",
       "      <td>0.000000</td>\n",
       "      <td>0.483000</td>\n",
       "      <td>251.000000</td>\n",
       "    </tr>\n",
       "    <tr>\n",
       "      <th>25%</th>\n",
       "      <td>1995.000000</td>\n",
       "      <td>3.000000</td>\n",
       "      <td>9.749850e+04</td>\n",
       "      <td>0.920000</td>\n",
       "      <td>0.713000</td>\n",
       "      <td>3447.000000</td>\n",
       "    </tr>\n",
       "    <tr>\n",
       "      <th>50%</th>\n",
       "      <td>2002.000000</td>\n",
       "      <td>25.000000</td>\n",
       "      <td>4.301500e+05</td>\n",
       "      <td>5.990000</td>\n",
       "      <td>0.779000</td>\n",
       "      <td>9372.000000</td>\n",
       "    </tr>\n",
       "    <tr>\n",
       "      <th>75%</th>\n",
       "      <td>2008.000000</td>\n",
       "      <td>131.000000</td>\n",
       "      <td>1.486143e+06</td>\n",
       "      <td>16.620000</td>\n",
       "      <td>0.855000</td>\n",
       "      <td>24874.000000</td>\n",
       "    </tr>\n",
       "    <tr>\n",
       "      <th>max</th>\n",
       "      <td>2016.000000</td>\n",
       "      <td>22338.000000</td>\n",
       "      <td>4.380521e+07</td>\n",
       "      <td>224.970000</td>\n",
       "      <td>0.944000</td>\n",
       "      <td>126352.000000</td>\n",
       "    </tr>\n",
       "  </tbody>\n",
       "</table>\n",
       "</div>"
      ],
      "text/plain": [
       "               year   suicides_no    population  suicides/100k pop  \\\n",
       "count  27820.000000  27820.000000  2.782000e+04       27820.000000   \n",
       "mean    2001.258375    242.574407  1.844794e+06          12.816097   \n",
       "std        8.469055    902.047917  3.911779e+06          18.961511   \n",
       "min     1985.000000      0.000000  2.780000e+02           0.000000   \n",
       "25%     1995.000000      3.000000  9.749850e+04           0.920000   \n",
       "50%     2002.000000     25.000000  4.301500e+05           5.990000   \n",
       "75%     2008.000000    131.000000  1.486143e+06          16.620000   \n",
       "max     2016.000000  22338.000000  4.380521e+07         224.970000   \n",
       "\n",
       "       HDI for year  gdp_per_capita ($)  \n",
       "count   8364.000000        27820.000000  \n",
       "mean       0.776601        16866.464414  \n",
       "std        0.093367        18887.576472  \n",
       "min        0.483000          251.000000  \n",
       "25%        0.713000         3447.000000  \n",
       "50%        0.779000         9372.000000  \n",
       "75%        0.855000        24874.000000  \n",
       "max        0.944000       126352.000000  "
      ]
     },
     "execution_count": 49,
     "metadata": {},
     "output_type": "execute_result"
    }
   ],
   "source": [
    "df.describe()"
   ]
  },
  {
   "cell_type": "markdown",
   "metadata": {},
   "source": [
    "# Suicides per 100k people "
   ]
  },
  {
   "cell_type": "code",
   "execution_count": 19,
   "metadata": {},
   "outputs": [
    {
     "data": {
      "image/png": "[encoded data removed]",
      "text/plain": [
       "<Figure size 648x360 with 1 Axes>"
      ]
     },
     "metadata": {
      "needs_background": "light"
     },
     "output_type": "display_data"
    }
   ],
   "source": [
    "sns.lineplot(data=df,x=\"year\",y=\"suicides/100k pop\");"
   ]
  },
  {
   "cell_type": "markdown",
   "metadata": {},
   "source": [
    "# Generational Comparison"
   ]
  },
  {
   "cell_type": "code",
   "execution_count": 20,
   "metadata": {},
   "outputs": [
    {
     "data": {
      "image/png": "[encoded data removed]",
      "text/plain": [
       "<Figure size 648x360 with 1 Axes>"
      ]
     },
     "metadata": {
      "needs_background": "light"
     },
     "output_type": "display_data"
    }
   ],
   "source": [
    "sns.barplot('generation', 'suicides_no', data=df);"
   ]
  },
  {
   "cell_type": "markdown",
   "metadata": {},
   "source": [
    "# Yearly GDP in the US"
   ]
  },
  {
   "cell_type": "code",
   "execution_count": 21,
   "metadata": {},
   "outputs": [],
   "source": [
    "us_df = df.loc[df.country == 'United States']"
   ]
  },
  {
   "cell_type": "code",
   "execution_count": 47,
   "metadata": {
    "scrolled": true
   },
   "outputs": [
    {
     "data": {
      "image/png": "[encoded data removed]",
      "text/plain": [
       "<Figure size 648x360 with 1 Axes>"
      ]
     },
     "metadata": {
      "needs_background": "light"
     },
     "output_type": "display_data"
    }
   ],
   "source": [
    "pd.set_option('mode.chained_assignment', None)\n",
    "us_df[' gdp_for_year ($) '] = us_df[' gdp_for_year ($) '].replace(',','', regex=True).astype(int)\n",
    "sns.lineplot(x=\"year\",y=' gdp_for_year ($) ',data=us_df).set_title(\"Yearly GDP for US\");"
   ]
  },
  {
   "cell_type": "markdown",
   "metadata": {},
   "source": [
    "# Yearly Number of Suicides in the US"
   ]
  },
  {
   "cell_type": "code",
   "execution_count": 50,
   "metadata": {},
   "outputs": [
    {
     "data": {
      "image/png": "[encoded data removed]",
      "text/plain": [
       "<Figure size 648x360 with 1 Axes>"
      ]
     },
     "metadata": {
      "needs_background": "light"
     },
     "output_type": "display_data"
    }
   ],
   "source": [
    "sns.lineplot(x=\"year\",y='suicides_no',data=us_df).set_title(\"Yearly Number of Suicides in the US\");"
   ]
  },
  {
   "cell_type": "markdown",
   "metadata": {},
   "source": [
    "Let us save and upload our work to Jovian before continuing"
   ]
  },
  {
   "cell_type": "code",
   "execution_count": 51,
   "metadata": {},
   "outputs": [],
   "source": [
    "import jovian"
   ]
  },
  {
   "cell_type": "code",
   "execution_count": 52,
   "metadata": {},
   "outputs": [
    {
     "data": {
      "application/javascript": [
       "window.require && require([\"base/js/namespace\"],function(Jupyter){Jupyter.notebook.save_checkpoint()})"
      ],
      "text/plain": [
       "<IPython.core.display.Javascript object>"
      ]
     },
     "metadata": {},
     "output_type": "display_data"
    },
    {
     "name": "stdout",
     "output_type": "stream",
     "text": [
      "[jovian] Attempting to save notebook..\u001b[0m\n",
      "[jovian] Updating notebook \"aryannaik123/suicide-analysis\" on https://jovian.ml/\u001b[0m\n",
      "[jovian] Uploading notebook..\u001b[0m\n",
      "[jovian] Capturing environment..\u001b[0m\n",
      "[jovian] Committed successfully! https://jovian.ml/aryannaik123/suicide-analysis\u001b[0m\n"
     ]
    },
    {
     "data": {
      "text/plain": [
       "'https://jovian.ml/aryannaik123/suicide-analysis'"
      ]
     },
     "execution_count": 52,
     "metadata": {},
     "output_type": "execute_result"
    }
   ],
   "source": [
    "jovian.commit()"
   ]
  },
  {
   "cell_type": "markdown",
   "metadata": {},
   "source": [
    "## Asking and Answering Questions\n",
    "\n",
    "### Questions about the Suicide Data Set"
   ]
  },
  {
   "cell_type": "markdown",
   "metadata": {},
   "source": [
    "> Instructions (delete this cell)\n",
    ">\n",
    "> - Ask at least 5 interesting questions about your dataset\n",
    "> - Answer the questions either by computing the results using Numpy/Pandas or by plotting graphs using Matplotlib/Seaborn\n",
    "> - Create new columns, merge multiple dataset and perform grouping/aggregation wherever necessary\n",
    "> - Wherever you're using a library function from Pandas/Numpy/Matplotlib etc. explain briefly what it does\n",
    "\n"
   ]
  },
  {
   "cell_type": "markdown",
   "metadata": {},
   "source": [
    "###  Does GDP per capita effect number of suicides "
   ]
  },
  {
   "cell_type": "markdown",
   "metadata": {},
   "source": [
    "GDP per capita in the US particularly does not seem to affect the number of suicides however this could be due to inflation, or some lurking variable"
   ]
  },
  {
   "cell_type": "code",
   "execution_count": 55,
   "metadata": {
    "scrolled": true
   },
   "outputs": [
    {
     "data": {
      "image/png": "[encoded data removed]",
      "text/plain": [
       "<Figure size 648x360 with 1 Axes>"
      ]
     },
     "metadata": {
      "needs_background": "light"
     },
     "output_type": "display_data"
    }
   ],
   "source": [
    "sns.lineplot(x=\"year\",y=' gdp_for_year ($) ',data=us_df).set_title(\"Yearly GDP for US\");"
   ]
  },
  {
   "cell_type": "code",
   "execution_count": 56,
   "metadata": {
    "scrolled": true
   },
   "outputs": [
    {
     "data": {
      "image/png": "[encoded data removed]",
      "text/plain": [
       "<Figure size 648x360 with 1 Axes>"
      ]
     },
     "metadata": {
      "needs_background": "light"
     },
     "output_type": "display_data"
    }
   ],
   "source": [
    "sns.lineplot(x=\"year\",y='suicides_no',data=us_df).set_title(\"Yearly Number of Suicides in the US\");"
   ]
  },
  {
   "cell_type": "markdown",
   "metadata": {},
   "source": [
    "Using seaborn library to graph data"
   ]
  },
  {
   "cell_type": "markdown",
   "metadata": {},
   "source": [
    "#### Rise in number of Suicides"
   ]
  },
  {
   "cell_type": "markdown",
   "metadata": {},
   "source": [
    "There is a noticable rise in sucides particularly seen in this breakdown of number of suicides per generation. "
   ]
  },
  {
   "cell_type": "code",
   "execution_count": 59,
   "metadata": {},
   "outputs": [
    {
     "data": {
      "image/png": "[encoded data removed]",
      "text/plain": [
       "<Figure size 648x360 with 1 Axes>"
      ]
     },
     "metadata": {
      "needs_background": "light"
     },
     "output_type": "display_data"
    }
   ],
   "source": [
    "sns.barplot('generation', 'suicides_no', data=df);"
   ]
  },
  {
   "cell_type": "markdown",
   "metadata": {},
   "source": [
    "again using seaborn to get an aggregation of generational data"
   ]
  },
  {
   "cell_type": "markdown",
   "metadata": {},
   "source": [
    "#### Are Males more at risk of suicide?"
   ]
  },
  {
   "cell_type": "markdown",
   "metadata": {},
   "source": [
    "Males are overwhelmingly more at risk. In every country and year males had a greater number of suicides. This could be due to a reporting bias but it seems like if any bias was the case it would've been made more obvious. "
   ]
  },
  {
   "cell_type": "code",
   "execution_count": 67,
   "metadata": {},
   "outputs": [
    {
     "data": {
      "text/plain": [
       "count     27820\n",
       "unique        2\n",
       "top        male\n",
       "freq      13910\n",
       "Name: sex, dtype: object"
      ]
     },
     "execution_count": 67,
     "metadata": {},
     "output_type": "execute_result"
    }
   ],
   "source": [
    "df[\"sex\"].describe()"
   ]
  },
  {
   "cell_type": "code",
   "execution_count": 70,
   "metadata": {},
   "outputs": [
    {
     "data": {
      "text/html": [
       "<div>\n",
       "<style scoped>\n",
       "    .dataframe tbody tr th:only-of-type {\n",
       "        vertical-align: middle;\n",
       "    }\n",
       "\n",
       "    .dataframe tbody tr th {\n",
       "        vertical-align: top;\n",
       "    }\n",
       "\n",
       "    .dataframe thead th {\n",
       "        text-align: right;\n",
       "    }\n",
       "</style>\n",
       "<table border=\"1\" class=\"dataframe\">\n",
       "  <thead>\n",
       "    <tr style=\"text-align: right;\">\n",
       "      <th></th>\n",
       "      <th>country</th>\n",
       "      <th>year</th>\n",
       "      <th>sex</th>\n",
       "      <th>age</th>\n",
       "      <th>suicides_no</th>\n",
       "      <th>population</th>\n",
       "      <th>suicides/100k pop</th>\n",
       "      <th>country-year</th>\n",
       "      <th>HDI for year</th>\n",
       "      <th>gdp_for_year ($)</th>\n",
       "      <th>gdp_per_capita ($)</th>\n",
       "      <th>generation</th>\n",
       "    </tr>\n",
       "  </thead>\n",
       "  <tbody>\n",
       "    <tr>\n",
       "      <th>0</th>\n",
       "      <td>Albania</td>\n",
       "      <td>1987</td>\n",
       "      <td>male</td>\n",
       "      <td>15-24 years</td>\n",
       "      <td>21</td>\n",
       "      <td>312900</td>\n",
       "      <td>6.71</td>\n",
       "      <td>Albania1987</td>\n",
       "      <td>NaN</td>\n",
       "      <td>2,156,624,900</td>\n",
       "      <td>796</td>\n",
       "      <td>Generation X</td>\n",
       "    </tr>\n",
       "    <tr>\n",
       "      <th>1</th>\n",
       "      <td>Albania</td>\n",
       "      <td>1987</td>\n",
       "      <td>male</td>\n",
       "      <td>35-54 years</td>\n",
       "      <td>16</td>\n",
       "      <td>308000</td>\n",
       "      <td>5.19</td>\n",
       "      <td>Albania1987</td>\n",
       "      <td>NaN</td>\n",
       "      <td>2,156,624,900</td>\n",
       "      <td>796</td>\n",
       "      <td>Silent</td>\n",
       "    </tr>\n",
       "    <tr>\n",
       "      <th>3</th>\n",
       "      <td>Albania</td>\n",
       "      <td>1987</td>\n",
       "      <td>male</td>\n",
       "      <td>75+ years</td>\n",
       "      <td>1</td>\n",
       "      <td>21800</td>\n",
       "      <td>4.59</td>\n",
       "      <td>Albania1987</td>\n",
       "      <td>NaN</td>\n",
       "      <td>2,156,624,900</td>\n",
       "      <td>796</td>\n",
       "      <td>G.I. Generation</td>\n",
       "    </tr>\n",
       "    <tr>\n",
       "      <th>4</th>\n",
       "      <td>Albania</td>\n",
       "      <td>1987</td>\n",
       "      <td>male</td>\n",
       "      <td>25-34 years</td>\n",
       "      <td>9</td>\n",
       "      <td>274300</td>\n",
       "      <td>3.28</td>\n",
       "      <td>Albania1987</td>\n",
       "      <td>NaN</td>\n",
       "      <td>2,156,624,900</td>\n",
       "      <td>796</td>\n",
       "      <td>Boomers</td>\n",
       "    </tr>\n",
       "    <tr>\n",
       "      <th>8</th>\n",
       "      <td>Albania</td>\n",
       "      <td>1987</td>\n",
       "      <td>male</td>\n",
       "      <td>55-74 years</td>\n",
       "      <td>1</td>\n",
       "      <td>137500</td>\n",
       "      <td>0.73</td>\n",
       "      <td>Albania1987</td>\n",
       "      <td>NaN</td>\n",
       "      <td>2,156,624,900</td>\n",
       "      <td>796</td>\n",
       "      <td>G.I. Generation</td>\n",
       "    </tr>\n",
       "    <tr>\n",
       "      <th>...</th>\n",
       "      <td>...</td>\n",
       "      <td>...</td>\n",
       "      <td>...</td>\n",
       "      <td>...</td>\n",
       "      <td>...</td>\n",
       "      <td>...</td>\n",
       "      <td>...</td>\n",
       "      <td>...</td>\n",
       "      <td>...</td>\n",
       "      <td>...</td>\n",
       "      <td>...</td>\n",
       "      <td>...</td>\n",
       "    </tr>\n",
       "    <tr>\n",
       "      <th>27809</th>\n",
       "      <td>Uzbekistan</td>\n",
       "      <td>2014</td>\n",
       "      <td>male</td>\n",
       "      <td>25-34 years</td>\n",
       "      <td>318</td>\n",
       "      <td>2739150</td>\n",
       "      <td>11.61</td>\n",
       "      <td>Uzbekistan2014</td>\n",
       "      <td>0.675</td>\n",
       "      <td>63,067,077,179</td>\n",
       "      <td>2309</td>\n",
       "      <td>Millenials</td>\n",
       "    </tr>\n",
       "    <tr>\n",
       "      <th>27811</th>\n",
       "      <td>Uzbekistan</td>\n",
       "      <td>2014</td>\n",
       "      <td>male</td>\n",
       "      <td>55-74 years</td>\n",
       "      <td>144</td>\n",
       "      <td>1271111</td>\n",
       "      <td>11.33</td>\n",
       "      <td>Uzbekistan2014</td>\n",
       "      <td>0.675</td>\n",
       "      <td>63,067,077,179</td>\n",
       "      <td>2309</td>\n",
       "      <td>Boomers</td>\n",
       "    </tr>\n",
       "    <tr>\n",
       "      <th>27812</th>\n",
       "      <td>Uzbekistan</td>\n",
       "      <td>2014</td>\n",
       "      <td>male</td>\n",
       "      <td>15-24 years</td>\n",
       "      <td>347</td>\n",
       "      <td>3126905</td>\n",
       "      <td>11.10</td>\n",
       "      <td>Uzbekistan2014</td>\n",
       "      <td>0.675</td>\n",
       "      <td>63,067,077,179</td>\n",
       "      <td>2309</td>\n",
       "      <td>Millenials</td>\n",
       "    </tr>\n",
       "    <tr>\n",
       "      <th>27813</th>\n",
       "      <td>Uzbekistan</td>\n",
       "      <td>2014</td>\n",
       "      <td>male</td>\n",
       "      <td>75+ years</td>\n",
       "      <td>17</td>\n",
       "      <td>224995</td>\n",
       "      <td>7.56</td>\n",
       "      <td>Uzbekistan2014</td>\n",
       "      <td>0.675</td>\n",
       "      <td>63,067,077,179</td>\n",
       "      <td>2309</td>\n",
       "      <td>Silent</td>\n",
       "    </tr>\n",
       "    <tr>\n",
       "      <th>27817</th>\n",
       "      <td>Uzbekistan</td>\n",
       "      <td>2014</td>\n",
       "      <td>male</td>\n",
       "      <td>5-14 years</td>\n",
       "      <td>60</td>\n",
       "      <td>2762158</td>\n",
       "      <td>2.17</td>\n",
       "      <td>Uzbekistan2014</td>\n",
       "      <td>0.675</td>\n",
       "      <td>63,067,077,179</td>\n",
       "      <td>2309</td>\n",
       "      <td>Generation Z</td>\n",
       "    </tr>\n",
       "  </tbody>\n",
       "</table>\n",
       "<p>13910 rows × 12 columns</p>\n",
       "</div>"
      ],
      "text/plain": [
       "          country  year   sex          age  suicides_no  population  \\\n",
       "0         Albania  1987  male  15-24 years           21      312900   \n",
       "1         Albania  1987  male  35-54 years           16      308000   \n",
       "3         Albania  1987  male    75+ years            1       21800   \n",
       "4         Albania  1987  male  25-34 years            9      274300   \n",
       "8         Albania  1987  male  55-74 years            1      137500   \n",
       "...           ...   ...   ...          ...          ...         ...   \n",
       "27809  Uzbekistan  2014  male  25-34 years          318     2739150   \n",
       "27811  Uzbekistan  2014  male  55-74 years          144     1271111   \n",
       "27812  Uzbekistan  2014  male  15-24 years          347     3126905   \n",
       "27813  Uzbekistan  2014  male    75+ years           17      224995   \n",
       "27817  Uzbekistan  2014  male   5-14 years           60     2762158   \n",
       "\n",
       "       suicides/100k pop    country-year  HDI for year  gdp_for_year ($)   \\\n",
       "0                   6.71     Albania1987           NaN      2,156,624,900   \n",
       "1                   5.19     Albania1987           NaN      2,156,624,900   \n",
       "3                   4.59     Albania1987           NaN      2,156,624,900   \n",
       "4                   3.28     Albania1987           NaN      2,156,624,900   \n",
       "8                   0.73     Albania1987           NaN      2,156,624,900   \n",
       "...                  ...             ...           ...                ...   \n",
       "27809              11.61  Uzbekistan2014         0.675     63,067,077,179   \n",
       "27811              11.33  Uzbekistan2014         0.675     63,067,077,179   \n",
       "27812              11.10  Uzbekistan2014         0.675     63,067,077,179   \n",
       "27813               7.56  Uzbekistan2014         0.675     63,067,077,179   \n",
       "27817               2.17  Uzbekistan2014         0.675     63,067,077,179   \n",
       "\n",
       "       gdp_per_capita ($)       generation  \n",
       "0                     796     Generation X  \n",
       "1                     796           Silent  \n",
       "3                     796  G.I. Generation  \n",
       "4                     796          Boomers  \n",
       "8                     796  G.I. Generation  \n",
       "...                   ...              ...  \n",
       "27809                2309       Millenials  \n",
       "27811                2309          Boomers  \n",
       "27812                2309       Millenials  \n",
       "27813                2309           Silent  \n",
       "27817                2309     Generation Z  \n",
       "\n",
       "[13910 rows x 12 columns]"
      ]
     },
     "execution_count": 70,
     "metadata": {},
     "output_type": "execute_result"
    }
   ],
   "source": [
    "df.loc[df.sex == \"male\"]"
   ]
  },
  {
   "cell_type": "markdown",
   "metadata": {},
   "source": [
    "Using the pandas library we can see how many counts there is of male indicating males had more number of suicides in the particular country and year"
   ]
  },
  {
   "cell_type": "markdown",
   "metadata": {},
   "source": [
    "#### Correlation of Age with likelihood of suicide "
   ]
  },
  {
   "cell_type": "markdown",
   "metadata": {},
   "source": [
    "It seems historically people of the ages 35-54 have historically been the most likely to commit suicide. "
   ]
  },
  {
   "cell_type": "code",
   "execution_count": 74,
   "metadata": {},
   "outputs": [
    {
     "data": {
      "image/png": "[encoded data removed]",
      "text/plain": [
       "<Figure size 648x360 with 1 Axes>"
      ]
     },
     "metadata": {
      "needs_background": "light"
     },
     "output_type": "display_data"
    }
   ],
   "source": [
    "sns.barplot('age', 'suicides_no', data=df);"
   ]
  },
  {
   "cell_type": "markdown",
   "metadata": {},
   "source": [
    "Using seaborn library we can create a bar plot with an aggregation of number of suicides for age groups"
   ]
  },
  {
   "cell_type": "markdown",
   "metadata": {},
   "source": [
    "#### What is the greatest number of suicides in a country within one year"
   ]
  },
  {
   "cell_type": "markdown",
   "metadata": {},
   "source": [
    "The greatest number of suicides was in the Russian Federation in the year 1994. 22338 people committed suicide. "
   ]
  },
  {
   "cell_type": "code",
   "execution_count": 95,
   "metadata": {
    "scrolled": true
   },
   "outputs": [
    {
     "data": {
      "text/html": [
       "<div>\n",
       "<style scoped>\n",
       "    .dataframe tbody tr th:only-of-type {\n",
       "        vertical-align: middle;\n",
       "    }\n",
       "\n",
       "    .dataframe tbody tr th {\n",
       "        vertical-align: top;\n",
       "    }\n",
       "\n",
       "    .dataframe thead th {\n",
       "        text-align: right;\n",
       "    }\n",
       "</style>\n",
       "<table border=\"1\" class=\"dataframe\">\n",
       "  <thead>\n",
       "    <tr style=\"text-align: right;\">\n",
       "      <th></th>\n",
       "      <th>country</th>\n",
       "      <th>year</th>\n",
       "      <th>sex</th>\n",
       "      <th>age</th>\n",
       "      <th>suicides_no</th>\n",
       "      <th>population</th>\n",
       "      <th>suicides/100k pop</th>\n",
       "      <th>country-year</th>\n",
       "      <th>HDI for year</th>\n",
       "      <th>gdp_for_year ($)</th>\n",
       "      <th>gdp_per_capita ($)</th>\n",
       "      <th>generation</th>\n",
       "    </tr>\n",
       "  </thead>\n",
       "  <tbody>\n",
       "    <tr>\n",
       "      <th>20996</th>\n",
       "      <td>Russian Federation</td>\n",
       "      <td>1994</td>\n",
       "      <td>male</td>\n",
       "      <td>35-54 years</td>\n",
       "      <td>22338</td>\n",
       "      <td>19044200</td>\n",
       "      <td>117.30</td>\n",
       "      <td>Russian Federation1994</td>\n",
       "      <td>NaN</td>\n",
       "      <td>395,077,301,248</td>\n",
       "      <td>2853</td>\n",
       "      <td>Boomers</td>\n",
       "    </tr>\n",
       "    <tr>\n",
       "      <th>21008</th>\n",
       "      <td>Russian Federation</td>\n",
       "      <td>1995</td>\n",
       "      <td>male</td>\n",
       "      <td>35-54 years</td>\n",
       "      <td>21706</td>\n",
       "      <td>19249600</td>\n",
       "      <td>112.76</td>\n",
       "      <td>Russian Federation1995</td>\n",
       "      <td>NaN</td>\n",
       "      <td>395,531,066,563</td>\n",
       "      <td>2844</td>\n",
       "      <td>Boomers</td>\n",
       "    </tr>\n",
       "    <tr>\n",
       "      <th>21080</th>\n",
       "      <td>Russian Federation</td>\n",
       "      <td>2001</td>\n",
       "      <td>male</td>\n",
       "      <td>35-54 years</td>\n",
       "      <td>21262</td>\n",
       "      <td>21476420</td>\n",
       "      <td>99.00</td>\n",
       "      <td>Russian Federation2001</td>\n",
       "      <td>NaN</td>\n",
       "      <td>306,602,673,980</td>\n",
       "      <td>2229</td>\n",
       "      <td>Boomers</td>\n",
       "    </tr>\n",
       "    <tr>\n",
       "      <th>21068</th>\n",
       "      <td>Russian Federation</td>\n",
       "      <td>2000</td>\n",
       "      <td>male</td>\n",
       "      <td>35-54 years</td>\n",
       "      <td>21063</td>\n",
       "      <td>21378098</td>\n",
       "      <td>98.53</td>\n",
       "      <td>Russian Federation2000</td>\n",
       "      <td>NaN</td>\n",
       "      <td>259,708,496,267</td>\n",
       "      <td>1879</td>\n",
       "      <td>Boomers</td>\n",
       "    </tr>\n",
       "    <tr>\n",
       "      <th>21057</th>\n",
       "      <td>Russian Federation</td>\n",
       "      <td>1999</td>\n",
       "      <td>male</td>\n",
       "      <td>35-54 years</td>\n",
       "      <td>20705</td>\n",
       "      <td>21016400</td>\n",
       "      <td>98.52</td>\n",
       "      <td>Russian Federation1999</td>\n",
       "      <td>NaN</td>\n",
       "      <td>195,905,767,669</td>\n",
       "      <td>1412</td>\n",
       "      <td>Boomers</td>\n",
       "    </tr>\n",
       "    <tr>\n",
       "      <th>...</th>\n",
       "      <td>...</td>\n",
       "      <td>...</td>\n",
       "      <td>...</td>\n",
       "      <td>...</td>\n",
       "      <td>...</td>\n",
       "      <td>...</td>\n",
       "      <td>...</td>\n",
       "      <td>...</td>\n",
       "      <td>...</td>\n",
       "      <td>...</td>\n",
       "      <td>...</td>\n",
       "      <td>...</td>\n",
       "    </tr>\n",
       "    <tr>\n",
       "      <th>4063</th>\n",
       "      <td>Belize</td>\n",
       "      <td>2008</td>\n",
       "      <td>male</td>\n",
       "      <td>55-74 years</td>\n",
       "      <td>0</td>\n",
       "      <td>9580</td>\n",
       "      <td>0.00</td>\n",
       "      <td>Belize2008</td>\n",
       "      <td>NaN</td>\n",
       "      <td>1,368,625,150</td>\n",
       "      <td>5098</td>\n",
       "      <td>Silent</td>\n",
       "    </tr>\n",
       "    <tr>\n",
       "      <th>10618</th>\n",
       "      <td>Grenada</td>\n",
       "      <td>2009</td>\n",
       "      <td>male</td>\n",
       "      <td>35-54 years</td>\n",
       "      <td>0</td>\n",
       "      <td>10585</td>\n",
       "      <td>0.00</td>\n",
       "      <td>Grenada2009</td>\n",
       "      <td>NaN</td>\n",
       "      <td>771,278,111</td>\n",
       "      <td>8140</td>\n",
       "      <td>Boomers</td>\n",
       "    </tr>\n",
       "    <tr>\n",
       "      <th>10617</th>\n",
       "      <td>Grenada</td>\n",
       "      <td>2009</td>\n",
       "      <td>male</td>\n",
       "      <td>25-34 years</td>\n",
       "      <td>0</td>\n",
       "      <td>8697</td>\n",
       "      <td>0.00</td>\n",
       "      <td>Grenada2009</td>\n",
       "      <td>NaN</td>\n",
       "      <td>771,278,111</td>\n",
       "      <td>8140</td>\n",
       "      <td>Generation X</td>\n",
       "    </tr>\n",
       "    <tr>\n",
       "      <th>10616</th>\n",
       "      <td>Grenada</td>\n",
       "      <td>2009</td>\n",
       "      <td>male</td>\n",
       "      <td>15-24 years</td>\n",
       "      <td>0</td>\n",
       "      <td>12076</td>\n",
       "      <td>0.00</td>\n",
       "      <td>Grenada2009</td>\n",
       "      <td>NaN</td>\n",
       "      <td>771,278,111</td>\n",
       "      <td>8140</td>\n",
       "      <td>Millenials</td>\n",
       "    </tr>\n",
       "    <tr>\n",
       "      <th>21733</th>\n",
       "      <td>Saint Vincent and Grenadines</td>\n",
       "      <td>1999</td>\n",
       "      <td>female</td>\n",
       "      <td>35-54 years</td>\n",
       "      <td>0</td>\n",
       "      <td>10547</td>\n",
       "      <td>0.00</td>\n",
       "      <td>Saint Vincent and Grenadines1999</td>\n",
       "      <td>NaN</td>\n",
       "      <td>390,719,148</td>\n",
       "      <td>4041</td>\n",
       "      <td>Boomers</td>\n",
       "    </tr>\n",
       "  </tbody>\n",
       "</table>\n",
       "<p>27820 rows × 12 columns</p>\n",
       "</div>"
      ],
      "text/plain": [
       "                            country  year     sex          age  suicides_no  \\\n",
       "20996            Russian Federation  1994    male  35-54 years        22338   \n",
       "21008            Russian Federation  1995    male  35-54 years        21706   \n",
       "21080            Russian Federation  2001    male  35-54 years        21262   \n",
       "21068            Russian Federation  2000    male  35-54 years        21063   \n",
       "21057            Russian Federation  1999    male  35-54 years        20705   \n",
       "...                             ...   ...     ...          ...          ...   \n",
       "4063                         Belize  2008    male  55-74 years            0   \n",
       "10618                       Grenada  2009    male  35-54 years            0   \n",
       "10617                       Grenada  2009    male  25-34 years            0   \n",
       "10616                       Grenada  2009    male  15-24 years            0   \n",
       "21733  Saint Vincent and Grenadines  1999  female  35-54 years            0   \n",
       "\n",
       "       population  suicides/100k pop                      country-year  \\\n",
       "20996    19044200             117.30            Russian Federation1994   \n",
       "21008    19249600             112.76            Russian Federation1995   \n",
       "21080    21476420              99.00            Russian Federation2001   \n",
       "21068    21378098              98.53            Russian Federation2000   \n",
       "21057    21016400              98.52            Russian Federation1999   \n",
       "...           ...                ...                               ...   \n",
       "4063         9580               0.00                        Belize2008   \n",
       "10618       10585               0.00                       Grenada2009   \n",
       "10617        8697               0.00                       Grenada2009   \n",
       "10616       12076               0.00                       Grenada2009   \n",
       "21733       10547               0.00  Saint Vincent and Grenadines1999   \n",
       "\n",
       "       HDI for year  gdp_for_year ($)   gdp_per_capita ($)    generation  \n",
       "20996           NaN    395,077,301,248                2853       Boomers  \n",
       "21008           NaN    395,531,066,563                2844       Boomers  \n",
       "21080           NaN    306,602,673,980                2229       Boomers  \n",
       "21068           NaN    259,708,496,267                1879       Boomers  \n",
       "21057           NaN    195,905,767,669                1412       Boomers  \n",
       "...             ...                ...                 ...           ...  \n",
       "4063            NaN      1,368,625,150                5098        Silent  \n",
       "10618           NaN        771,278,111                8140       Boomers  \n",
       "10617           NaN        771,278,111                8140  Generation X  \n",
       "10616           NaN        771,278,111                8140    Millenials  \n",
       "21733           NaN        390,719,148                4041       Boomers  \n",
       "\n",
       "[27820 rows x 12 columns]"
      ]
     },
     "execution_count": 95,
     "metadata": {},
     "output_type": "execute_result"
    }
   ],
   "source": [
    "df.sort_values('suicides_no',ascending=False)"
   ]
  },
  {
   "cell_type": "markdown",
   "metadata": {},
   "source": [
    "The top 10 in this category are all in the Russian Federation"
   ]
  },
  {
   "cell_type": "code",
   "execution_count": 96,
   "metadata": {
    "scrolled": false
   },
   "outputs": [
    {
     "data": {
      "text/html": [
       "<div>\n",
       "<style scoped>\n",
       "    .dataframe tbody tr th:only-of-type {\n",
       "        vertical-align: middle;\n",
       "    }\n",
       "\n",
       "    .dataframe tbody tr th {\n",
       "        vertical-align: top;\n",
       "    }\n",
       "\n",
       "    .dataframe thead th {\n",
       "        text-align: right;\n",
       "    }\n",
       "</style>\n",
       "<table border=\"1\" class=\"dataframe\">\n",
       "  <thead>\n",
       "    <tr style=\"text-align: right;\">\n",
       "      <th></th>\n",
       "      <th>country</th>\n",
       "      <th>year</th>\n",
       "      <th>sex</th>\n",
       "      <th>age</th>\n",
       "      <th>suicides_no</th>\n",
       "      <th>population</th>\n",
       "      <th>suicides/100k pop</th>\n",
       "      <th>country-year</th>\n",
       "      <th>HDI for year</th>\n",
       "      <th>gdp_for_year ($)</th>\n",
       "      <th>gdp_per_capita ($)</th>\n",
       "      <th>generation</th>\n",
       "    </tr>\n",
       "  </thead>\n",
       "  <tbody>\n",
       "    <tr>\n",
       "      <th>20996</th>\n",
       "      <td>Russian Federation</td>\n",
       "      <td>1994</td>\n",
       "      <td>male</td>\n",
       "      <td>35-54 years</td>\n",
       "      <td>22338</td>\n",
       "      <td>19044200</td>\n",
       "      <td>117.30</td>\n",
       "      <td>Russian Federation1994</td>\n",
       "      <td>NaN</td>\n",
       "      <td>395,077,301,248</td>\n",
       "      <td>2853</td>\n",
       "      <td>Boomers</td>\n",
       "    </tr>\n",
       "    <tr>\n",
       "      <th>21008</th>\n",
       "      <td>Russian Federation</td>\n",
       "      <td>1995</td>\n",
       "      <td>male</td>\n",
       "      <td>35-54 years</td>\n",
       "      <td>21706</td>\n",
       "      <td>19249600</td>\n",
       "      <td>112.76</td>\n",
       "      <td>Russian Federation1995</td>\n",
       "      <td>NaN</td>\n",
       "      <td>395,531,066,563</td>\n",
       "      <td>2844</td>\n",
       "      <td>Boomers</td>\n",
       "    </tr>\n",
       "    <tr>\n",
       "      <th>21080</th>\n",
       "      <td>Russian Federation</td>\n",
       "      <td>2001</td>\n",
       "      <td>male</td>\n",
       "      <td>35-54 years</td>\n",
       "      <td>21262</td>\n",
       "      <td>21476420</td>\n",
       "      <td>99.00</td>\n",
       "      <td>Russian Federation2001</td>\n",
       "      <td>NaN</td>\n",
       "      <td>306,602,673,980</td>\n",
       "      <td>2229</td>\n",
       "      <td>Boomers</td>\n",
       "    </tr>\n",
       "    <tr>\n",
       "      <th>21068</th>\n",
       "      <td>Russian Federation</td>\n",
       "      <td>2000</td>\n",
       "      <td>male</td>\n",
       "      <td>35-54 years</td>\n",
       "      <td>21063</td>\n",
       "      <td>21378098</td>\n",
       "      <td>98.53</td>\n",
       "      <td>Russian Federation2000</td>\n",
       "      <td>NaN</td>\n",
       "      <td>259,708,496,267</td>\n",
       "      <td>1879</td>\n",
       "      <td>Boomers</td>\n",
       "    </tr>\n",
       "    <tr>\n",
       "      <th>21057</th>\n",
       "      <td>Russian Federation</td>\n",
       "      <td>1999</td>\n",
       "      <td>male</td>\n",
       "      <td>35-54 years</td>\n",
       "      <td>20705</td>\n",
       "      <td>21016400</td>\n",
       "      <td>98.52</td>\n",
       "      <td>Russian Federation1999</td>\n",
       "      <td>NaN</td>\n",
       "      <td>195,905,767,669</td>\n",
       "      <td>1412</td>\n",
       "      <td>Boomers</td>\n",
       "    </tr>\n",
       "    <tr>\n",
       "      <th>21020</th>\n",
       "      <td>Russian Federation</td>\n",
       "      <td>1996</td>\n",
       "      <td>male</td>\n",
       "      <td>35-54 years</td>\n",
       "      <td>20562</td>\n",
       "      <td>19507100</td>\n",
       "      <td>105.41</td>\n",
       "      <td>Russian Federation1996</td>\n",
       "      <td>NaN</td>\n",
       "      <td>391,719,993,757</td>\n",
       "      <td>2813</td>\n",
       "      <td>Boomers</td>\n",
       "    </tr>\n",
       "    <tr>\n",
       "      <th>20984</th>\n",
       "      <td>Russian Federation</td>\n",
       "      <td>1993</td>\n",
       "      <td>male</td>\n",
       "      <td>35-54 years</td>\n",
       "      <td>20256</td>\n",
       "      <td>18908000</td>\n",
       "      <td>107.13</td>\n",
       "      <td>Russian Federation1993</td>\n",
       "      <td>NaN</td>\n",
       "      <td>435,083,713,851</td>\n",
       "      <td>3160</td>\n",
       "      <td>Boomers</td>\n",
       "    </tr>\n",
       "    <tr>\n",
       "      <th>21092</th>\n",
       "      <td>Russian Federation</td>\n",
       "      <td>2002</td>\n",
       "      <td>male</td>\n",
       "      <td>35-54 years</td>\n",
       "      <td>20119</td>\n",
       "      <td>21320535</td>\n",
       "      <td>94.36</td>\n",
       "      <td>Russian Federation2002</td>\n",
       "      <td>NaN</td>\n",
       "      <td>345,110,438,692</td>\n",
       "      <td>2527</td>\n",
       "      <td>Boomers</td>\n",
       "    </tr>\n",
       "    <tr>\n",
       "      <th>21033</th>\n",
       "      <td>Russian Federation</td>\n",
       "      <td>1997</td>\n",
       "      <td>male</td>\n",
       "      <td>35-54 years</td>\n",
       "      <td>18973</td>\n",
       "      <td>19913400</td>\n",
       "      <td>95.28</td>\n",
       "      <td>Russian Federation1997</td>\n",
       "      <td>NaN</td>\n",
       "      <td>404,926,534,140</td>\n",
       "      <td>2907</td>\n",
       "      <td>Boomers</td>\n",
       "    </tr>\n",
       "    <tr>\n",
       "      <th>21105</th>\n",
       "      <td>Russian Federation</td>\n",
       "      <td>2003</td>\n",
       "      <td>male</td>\n",
       "      <td>35-54 years</td>\n",
       "      <td>18681</td>\n",
       "      <td>21007346</td>\n",
       "      <td>88.93</td>\n",
       "      <td>Russian Federation2003</td>\n",
       "      <td>NaN</td>\n",
       "      <td>430,347,770,732</td>\n",
       "      <td>3141</td>\n",
       "      <td>Boomers</td>\n",
       "    </tr>\n",
       "  </tbody>\n",
       "</table>\n",
       "</div>"
      ],
      "text/plain": [
       "                  country  year   sex          age  suicides_no  population  \\\n",
       "20996  Russian Federation  1994  male  35-54 years        22338    19044200   \n",
       "21008  Russian Federation  1995  male  35-54 years        21706    19249600   \n",
       "21080  Russian Federation  2001  male  35-54 years        21262    21476420   \n",
       "21068  Russian Federation  2000  male  35-54 years        21063    21378098   \n",
       "21057  Russian Federation  1999  male  35-54 years        20705    21016400   \n",
       "21020  Russian Federation  1996  male  35-54 years        20562    19507100   \n",
       "20984  Russian Federation  1993  male  35-54 years        20256    18908000   \n",
       "21092  Russian Federation  2002  male  35-54 years        20119    21320535   \n",
       "21033  Russian Federation  1997  male  35-54 years        18973    19913400   \n",
       "21105  Russian Federation  2003  male  35-54 years        18681    21007346   \n",
       "\n",
       "       suicides/100k pop            country-year  HDI for year  \\\n",
       "20996             117.30  Russian Federation1994           NaN   \n",
       "21008             112.76  Russian Federation1995           NaN   \n",
       "21080              99.00  Russian Federation2001           NaN   \n",
       "21068              98.53  Russian Federation2000           NaN   \n",
       "21057              98.52  Russian Federation1999           NaN   \n",
       "21020             105.41  Russian Federation1996           NaN   \n",
       "20984             107.13  Russian Federation1993           NaN   \n",
       "21092              94.36  Russian Federation2002           NaN   \n",
       "21033              95.28  Russian Federation1997           NaN   \n",
       "21105              88.93  Russian Federation2003           NaN   \n",
       "\n",
       "       gdp_for_year ($)   gdp_per_capita ($) generation  \n",
       "20996    395,077,301,248                2853    Boomers  \n",
       "21008    395,531,066,563                2844    Boomers  \n",
       "21080    306,602,673,980                2229    Boomers  \n",
       "21068    259,708,496,267                1879    Boomers  \n",
       "21057    195,905,767,669                1412    Boomers  \n",
       "21020    391,719,993,757                2813    Boomers  \n",
       "20984    435,083,713,851                3160    Boomers  \n",
       "21092    345,110,438,692                2527    Boomers  \n",
       "21033    404,926,534,140                2907    Boomers  \n",
       "21105    430,347,770,732                3141    Boomers  "
      ]
     },
     "execution_count": 96,
     "metadata": {},
     "output_type": "execute_result"
    }
   ],
   "source": [
    "df.sort_values('suicides_no',ascending=False).head(10)"
   ]
  },
  {
   "cell_type": "markdown",
   "metadata": {},
   "source": [
    "Using pandas we can use a dataframe to analyze the data using a table format, and sort by columns"
   ]
  },
  {
   "cell_type": "code",
   "execution_count": 101,
   "metadata": {},
   "outputs": [],
   "source": [
    "import jovian"
   ]
  },
  {
   "cell_type": "code",
   "execution_count": null,
   "metadata": {},
   "outputs": [
    {
     "data": {
      "application/javascript": [
       "window.require && require([\"base/js/namespace\"],function(Jupyter){Jupyter.notebook.save_checkpoint()})"
      ],
      "text/plain": [
       "<IPython.core.display.Javascript object>"
      ]
     },
     "metadata": {},
     "output_type": "display_data"
    },
    {
     "name": "stdout",
     "output_type": "stream",
     "text": [
      "[jovian] Attempting to save notebook..\u001b[0m\n"
     ]
    }
   ],
   "source": [
    "jovian.commit()"
   ]
  },
  {
   "cell_type": "markdown",
   "metadata": {},
   "source": [
    "## Inferences and Conclusion\n",
    "\n",
    "Overall suicide rates have dramtically increased in the last several years possiby due to social media. We should be concerned with the effects of social media on youth. We can be more active in young people's lives to help them. Overall I learned a lot about suicide from this project and it's statistical history."
   ]
  },
  {
   "cell_type": "code",
   "execution_count": 99,
   "metadata": {},
   "outputs": [],
   "source": [
    "import jovian"
   ]
  },
  {
   "cell_type": "code",
   "execution_count": 100,
   "metadata": {},
   "outputs": [
    {
     "data": {
      "application/javascript": [
       "window.require && require([\"base/js/namespace\"],function(Jupyter){Jupyter.notebook.save_checkpoint()})"
      ],
      "text/plain": [
       "<IPython.core.display.Javascript object>"
      ]
     },
     "metadata": {},
     "output_type": "display_data"
    },
    {
     "name": "stdout",
     "output_type": "stream",
     "text": [
      "[jovian] Attempting to save notebook..\u001b[0m\n",
      "[jovian] Updating notebook \"aryannaik123/suicide-analysis\" on https://jovian.ml/\u001b[0m\n",
      "[jovian] Uploading notebook..\u001b[0m\n",
      "[jovian] Capturing environment..\u001b[0m\n",
      "[jovian] Committed successfully! https://jovian.ml/aryannaik123/suicide-analysis\u001b[0m\n"
     ]
    },
    {
     "data": {
      "text/plain": [
       "'https://jovian.ml/aryannaik123/suicide-analysis'"
      ]
     },
     "execution_count": 100,
     "metadata": {},
     "output_type": "execute_result"
    }
   ],
   "source": [
    "jovian.commit()"
   ]
  },
  {
   "cell_type": "markdown",
   "metadata": {},
   "source": [
    "## References and Future Work\n",
    "\n",
    "This was a very interesting course, I am very happy with what I learned and I am excited to work on new projects. I am working on creating a Student Research Group called ResearchZ.\n",
    "\n",
    "[ResearchZ](researchz.technology)\n",
    "\n",
    "[Linkedin](linkedin.com/in/aryan-naik-b242041b3/) - My Linkedin \n",
    "\n",
    "[GitHub](https://github.com/aryanNaik123) - My Github\n",
    "\n",
    "Below are some resources if you or someone you know is suffering with Depression or suicidal thoughts. This is a very personal subject so if you need someone to talk to you can contact me at aryannnaik@outlook.com\n",
    "\n",
    "ˇ ˇ ˇ ˇ ˇ ˇ ˇ ˇ ˇ ˇ ˇ ˇ ˇ ˇ ˇ ˇ ˇ ˇ ˇ ˇ ˇ ˇ ˇ ˇ ˇ ˇ ˇ ˇ ˇ ˇ ˇ ˇ ˇ ˇ ˇ ˇ ˇ ˇ ˇ ˇ ˇ ˇ ˇ ˇ ˇ ˇ ˇ ˇ ˇ ˇ ˇ ˇ ˇ ˇ ˇ ˇ ˇ ˇ ˇ ˇ ˇ ˇ ˇ ˇ "
   ]
  },
  {
   "cell_type": "markdown",
   "metadata": {},
   "source": [
    "Crisis services\n",
    "24/7 Crisis Hotline: National Suicide Prevention Lifeline Network\n",
    "www.suicidepreventionlifeline.org\n",
    "1-800-273-TALK (8255) (Veterans, press 1)\n",
    "\n",
    "Crisis Text Line\n",
    "Text TALK to 741-741 to text with a trained crisis counselor from the Crisis Text Line for free, 24/7\n",
    "\n",
    "Veterans Crisis Line\n",
    "Send a text to 838255\n",
    "\n",
    "Vets4Warriors\n",
    "\n",
    "SAMHSA Treatment Referral Hotline (Substance Abuse)\n",
    "1-800-662-HELP (4357)\n",
    "\n",
    "RAINN National Sexual Assault Hotline\n",
    "1-800-656-HOPE (4673)\n",
    "\n",
    "National Teen Dating Abuse Helpline\n",
    "1-866-331-9474\n",
    "\n",
    "The Trevor Project\n",
    "1-866-488-7386\n",
    "\n",
    "Also visit your:\n",
    "\n",
    "Primary care provider\n",
    "Local psychiatric hospital\n",
    "Local walk-in clinic\n",
    "Local emergency department\n",
    "Local urgent care center\n",
    "Finding mental health care\n",
    "American Psychiatric Association\n",
    "\n",
    "American Psychological Association\n",
    "\n",
    "National Association of Social Workers\n",
    "\n",
    "SAMHSA Mental Health Provider Locator\n",
    "\n",
    "Veterans Affairs\n",
    "\n",
    "Additional resources by mental health condition\n",
    "Alcohol & drugs\n",
    "Substance Abuse and Mental Health Services Administration\n",
    "\n",
    "National Institute on Drug Abuse\n",
    "\n",
    "Narcotics Anonymous\n",
    "\n",
    "Alcoholics Anonymous\n",
    "\n",
    "Physicians for Responsible Opioid Prescribing (PROP)\n",
    "\n",
    "National Institute on Alcohol Abuse and Alcoholism\n",
    "\n",
    "Start Your Recovery\n",
    "\n",
    "Detox Local's Drug Withdrawal and Detox Guide\n",
    "\n",
    "Anxiety disorders\n",
    "National Education Alliance for Borderline Personality\n",
    "\n",
    "Teen’s Health\n",
    "\n",
    "Anxiety Disorders Association of America\n",
    "\n",
    "Bipolar disorder\n",
    "Depression and Bipolar Support Alliance\n",
    "\n",
    "National Education Alliance for Borderline Personality\n",
    "\n",
    "Teen’s Health\n",
    "\n",
    "Borderline personality\n",
    "BPDVideo\n",
    "\n",
    "National Education Alliance for Borderline Personality\n",
    "\n",
    "Cutting\n",
    "Teen’s Health\n",
    "\n",
    "Self Abuse Finally Ends\n",
    "\n",
    "Depression\n",
    "Depression and Bipolar Support Alliance\n",
    "\n",
    "National Education Alliance for Borderline Personality\n",
    "\n",
    "Families for Depression Awareness\n",
    "\n",
    "Teen’s Health\n",
    "\n",
    "American Psychiatric Foundation\n",
    "\n",
    "National Alliance on Mental Illness\n",
    "\n",
    "HeadsUpGuys\n",
    "\n",
    "Eating disorders\n",
    "Teen’s Health\n",
    "\n",
    "Overeaters Anonymous\n",
    "\n",
    "National Association of Anorexia Nervosa and Associated Disorders\n",
    "\n",
    "National Eating Disorders Association\n",
    "\n",
    "Eating Disorders Anonymous\n",
    "\n",
    "Proud2Bme\n",
    "\n",
    "Understanding Eating Disorders\n",
    "\n",
    "Emotional health\n",
    "Let’s Erase The Stigma\n",
    "\n",
    "Love is Louder\n",
    "\n",
    "Half of Us\n",
    "\n",
    "Veterans United\n",
    "\n",
    "American Psychiatric Foundation\n",
    "\n",
    "Active Minds\n",
    "\n",
    "OK2TALK\n",
    "\n",
    "Make The Connection\n",
    "\n",
    "Inspire USA Foundation\n",
    "\n",
    "National Dialogue on Mental Health\n",
    "\n",
    "Each Mind Matters\n",
    "\n",
    "Befrienders Worldwide\n",
    "\n",
    "Veterans Affairs Training\n",
    "\n",
    "Veterans Affairs Mental Health Toolkit\n",
    "\n",
    "Veterans Affairs Mental Health\n",
    "\n",
    "Schizophrenia\n",
    "Schizophrenics Anonymous\n",
    "\n",
    "Schizophrenia.com\n",
    "\n",
    "National Alliance on Mental Illness\n",
    "\n",
    "Stress\n",
    "Veterans United\n",
    "\n",
    "Stress Management-HelpGuide.org\n",
    "\n",
    "Teen’s Health\n",
    "\n",
    "Suicide prevention\n",
    "American Association of Suicidology\n",
    "\n",
    "Crisis Text Line\n",
    "\n",
    "The Dougy Center – The National Center for Grieving Children and Families\n",
    "\n",
    "How to Talk to a Child about a Suicide Attempt in Your Family (Rocky Mountain MIRECC)\n",
    "\n",
    "The Jason Foundation\n",
    "\n",
    "The Jed Foundation\n",
    "\n",
    "Lifeline Chat\n",
    "\n",
    "Man Therapy\n",
    "\n",
    "Mental Health America\n",
    "\n",
    "My3 App\n",
    "\n",
    "National Action Alliance for Suicide Prevention\n",
    "\n",
    "National Organization for People of Color Against Suicide\n",
    "\n",
    "National Suicide Prevention Lifeline\n",
    "\n",
    "Now Matters Now\n",
    "\n",
    "Parents, Families, Friends, and Allies United with LGBTQ People (PFLAG)\n",
    "\n",
    "Safety Planning Tools\n",
    "\n",
    "SAVE\n",
    "\n",
    "The Society for the Prevention of Teen Suicide\n",
    "\n",
    "StopBullying.gov\n",
    "\n",
    "Suicide Prevention Resource Center\n",
    "\n",
    "Teen’s Health\n",
    "\n",
    "The Trevor Project\n",
    "\n",
    "The Tyler Clementi Foundation\n",
    "\n",
    "Veterans Crisis Line\n",
    "\n",
    "Wounded Warrior Project"
   ]
  },
  {
   "cell_type": "code",
   "execution_count": 2,
   "metadata": {},
   "outputs": [],
   "source": [
    "import jovian"
   ]
  },
  {
   "cell_type": "code",
   "execution_count": null,
   "metadata": {
    "scrolled": true
   },
   "outputs": [
    {
     "data": {
      "application/javascript": [
       "window.require && require([\"base/js/namespace\"],function(Jupyter){Jupyter.notebook.save_checkpoint()})"
      ],
      "text/plain": [
       "<IPython.core.display.Javascript object>"
      ]
     },
     "metadata": {},
     "output_type": "display_data"
    },
    {
     "name": "stdout",
     "output_type": "stream",
     "text": [
      "[jovian] Attempting to save notebook..\u001b[0m\n"
     ]
    }
   ],
   "source": [
    "jovian.commit(git_commit=True)"
   ]
  },
  {
   "cell_type": "markdown",
   "metadata": {},
   "source": [
    "**A Research Project on Suicide**"
   ]
  },
  {
   "cell_type": "markdown",
   "metadata": {},
   "source": [
    "**by Aryan Naik**"
   ]
  }
 ],
 "metadata": {
  "kernelspec": {
   "display_name": "Python 3",
   "language": "python",
   "name": "python3"
  },
  "language_info": {
   "codemirror_mode": {
    "name": "ipython",
    "version": 3
   },
   "file_extension": ".py",
   "mimetype": "text/x-python",
   "name": "python",
   "nbconvert_exporter": "python",
   "pygments_lexer": "ipython3",
   "version": "3.8.5"
  }
 },
 "nbformat": 4,
 "nbformat_minor": 4
}
